{
 "cells": [
  {
   "cell_type": "code",
   "execution_count": 2,
   "metadata": {},
   "outputs": [],
   "source": [
    "import pandas as pd\n",
    "import numpy as np"
   ]
  },
  {
   "cell_type": "code",
   "execution_count": 3,
   "metadata": {},
   "outputs": [
    {
     "data": {
      "text/html": [
       "<div>\n",
       "<style scoped>\n",
       "    .dataframe tbody tr th:only-of-type {\n",
       "        vertical-align: middle;\n",
       "    }\n",
       "\n",
       "    .dataframe tbody tr th {\n",
       "        vertical-align: top;\n",
       "    }\n",
       "\n",
       "    .dataframe thead th {\n",
       "        text-align: right;\n",
       "    }\n",
       "</style>\n",
       "<table border=\"1\" class=\"dataframe\">\n",
       "  <thead>\n",
       "    <tr style=\"text-align: right;\">\n",
       "      <th></th>\n",
       "      <th>model</th>\n",
       "      <th>pk</th>\n",
       "      <th>fields</th>\n",
       "    </tr>\n",
       "  </thead>\n",
       "  <tbody>\n",
       "    <tr>\n",
       "      <th>88862</th>\n",
       "      <td>WebResource.section</td>\n",
       "      <td>9920</td>\n",
       "      <td>{'webresource': 9552, 'fragment': ''}</td>\n",
       "    </tr>\n",
       "    <tr>\n",
       "      <th>79281</th>\n",
       "      <td>WebResource.section</td>\n",
       "      <td>339</td>\n",
       "      <td>{'webresource': 285, 'fragment': ''}</td>\n",
       "    </tr>\n",
       "    <tr>\n",
       "      <th>8744</th>\n",
       "      <td>WebResource.webresource</td>\n",
       "      <td>5734</td>\n",
       "      <td>{'origin': 2025, 'website': 2, 'url': 'http://...</td>\n",
       "    </tr>\n",
       "    <tr>\n",
       "      <th>77594</th>\n",
       "      <td>WebResource.webresource</td>\n",
       "      <td>74584</td>\n",
       "      <td>{'origin': 26305, 'website': 1485, 'url': 'htt...</td>\n",
       "    </tr>\n",
       "    <tr>\n",
       "      <th>116275</th>\n",
       "      <td>WebResource.section</td>\n",
       "      <td>37333</td>\n",
       "      <td>{'webresource': 36304, 'fragment': ''}</td>\n",
       "    </tr>\n",
       "    <tr>\n",
       "      <th>54083</th>\n",
       "      <td>WebResource.webresource</td>\n",
       "      <td>51073</td>\n",
       "      <td>{'origin': 28069, 'website': 1846, 'url': 'htt...</td>\n",
       "    </tr>\n",
       "    <tr>\n",
       "      <th>29693</th>\n",
       "      <td>WebResource.webresource</td>\n",
       "      <td>26683</td>\n",
       "      <td>{'origin': 20312, 'website': 1496, 'url': 'htt...</td>\n",
       "    </tr>\n",
       "  </tbody>\n",
       "</table>\n",
       "</div>"
      ],
      "text/plain": [
       "                          model     pk  \\\n",
       "88862       WebResource.section   9920   \n",
       "79281       WebResource.section    339   \n",
       "8744    WebResource.webresource   5734   \n",
       "77594   WebResource.webresource  74584   \n",
       "116275      WebResource.section  37333   \n",
       "54083   WebResource.webresource  51073   \n",
       "29693   WebResource.webresource  26683   \n",
       "\n",
       "                                                   fields  \n",
       "88862               {'webresource': 9552, 'fragment': ''}  \n",
       "79281                {'webresource': 285, 'fragment': ''}  \n",
       "8744    {'origin': 2025, 'website': 2, 'url': 'http://...  \n",
       "77594   {'origin': 26305, 'website': 1485, 'url': 'htt...  \n",
       "116275             {'webresource': 36304, 'fragment': ''}  \n",
       "54083   {'origin': 28069, 'website': 1846, 'url': 'htt...  \n",
       "29693   {'origin': 20312, 'website': 1496, 'url': 'htt...  "
      ]
     },
     "execution_count": 3,
     "metadata": {},
     "output_type": "execute_result"
    }
   ],
   "source": [
    "data = pd.read_json(\"db.json\")\n",
    "data.sample(7)"
   ]
  }
 ],
 "metadata": {
  "interpreter": {
   "hash": "53862e2271fa30b45ddab09dc30ed0d8e6ff5ffe1e36ec645d145a1569456846"
  },
  "kernelspec": {
   "display_name": "Python 3.9.5 64-bit",
   "language": "python",
   "name": "python3"
  },
  "language_info": {
   "codemirror_mode": {
    "name": "ipython",
    "version": 3
   },
   "file_extension": ".py",
   "mimetype": "text/x-python",
   "name": "python",
   "nbconvert_exporter": "python",
   "pygments_lexer": "ipython3",
   "version": "3.9.5"
  },
  "orig_nbformat": 4
 },
 "nbformat": 4,
 "nbformat_minor": 2
}
